{
 "cells": [
  {
   "cell_type": "code",
   "execution_count": 1,
   "metadata": {},
   "outputs": [
    {
     "name": "stderr",
     "output_type": "stream",
     "text": [
      "Using TensorFlow backend.\n"
     ]
    }
   ],
   "source": [
    "import pickle\n",
    "\n",
    "import pandas as pd\n",
    "import matplotlib.pyplot as plt\n",
    "\n",
    "from keras.models import Sequential\n",
    "from keras.layers import Dense, Dropout, Activation, Flatten\n",
    "from keras.layers import Convolution2D, MaxPooling2D\n",
    "from keras.optimizers import Adam\n",
    "from keras.utils import np_utils"
   ]
  },
  {
   "cell_type": "code",
   "execution_count": 3,
   "metadata": {},
   "outputs": [],
   "source": [
    "settings_file = 'settings/setting_1.pkl'\n",
    "history_file = 'output/history.pkl'\n",
    "\n",
    "data = {\n",
    "    'data_dir': '../../Datasets/urban-sound-classification/',\n",
    "    'train_csv': 'train.csv',\n",
    "   'test_csv' : 'test.csv',\n",
    "   'pickle_train' : 'pickles/train_df.pkl',\n",
    "   'pickle_test' : 'pickles/test_df.pkl',\n",
    "   'test_size' : 0.25,\n",
    "   'random_state': 23,\n",
    "   'librosa_res_type' : 'kaiser_fast',\n",
    "   'librosa_n_mfcc' : 40,\n",
    "   'output_dir' : 'output/',\n",
    "   'img_accuracy' : 'accuracy.png',\n",
    "   'plt_loc' : 'best',\n",
    "   'plt_figsize' : (18, 10),\n",
    "   'keras_num_epochs' : 100,\n",
    "   'keras_loss' : 'categorical_crossentropy', \n",
    "   'keras_metrics' : 'accuracy', \n",
    "   'keras_optimizer' : 'adam',\n",
    "   'keras_shuffle': False,\n",
    "   'keras_verbose' : 0,\n",
    "   'keras_filter_size' : 2,\n",
    "   'history_file' : history_file,\n",
    "    }"
   ]
  },
  {
   "cell_type": "code",
   "execution_count": 4,
   "metadata": {},
   "outputs": [],
   "source": [
    "pickle.dump( data, open( settings_file, 'wb' ) )"
   ]
  },
  {
   "cell_type": "code",
   "execution_count": 5,
   "metadata": {},
   "outputs": [
    {
     "data": {
      "text/html": [
       "<div>\n",
       "<style scoped>\n",
       "    .dataframe tbody tr th:only-of-type {\n",
       "        vertical-align: middle;\n",
       "    }\n",
       "\n",
       "    .dataframe tbody tr th {\n",
       "        vertical-align: top;\n",
       "    }\n",
       "\n",
       "    .dataframe thead th {\n",
       "        text-align: right;\n",
       "    }\n",
       "</style>\n",
       "<table border=\"1\" class=\"dataframe\">\n",
       "  <thead>\n",
       "    <tr style=\"text-align: right;\">\n",
       "      <th></th>\n",
       "      <th>Features</th>\n",
       "      <th>ID</th>\n",
       "      <th>prediction_number</th>\n",
       "      <th>prediction_label</th>\n",
       "    </tr>\n",
       "  </thead>\n",
       "  <tbody>\n",
       "    <tr>\n",
       "      <th>0</th>\n",
       "      <td>[-76.29932629700959, 20.437210092830487, -17.5...</td>\n",
       "      <td>5</td>\n",
       "      <td>4</td>\n",
       "      <td>drilling</td>\n",
       "    </tr>\n",
       "    <tr>\n",
       "      <th>1</th>\n",
       "      <td>[-375.73603059254435, 149.91731235026904, -21....</td>\n",
       "      <td>7</td>\n",
       "      <td>3</td>\n",
       "      <td>dog_bark</td>\n",
       "    </tr>\n",
       "    <tr>\n",
       "      <th>2</th>\n",
       "      <td>[-150.61727302774204, -26.24097636075147, -24....</td>\n",
       "      <td>8</td>\n",
       "      <td>4</td>\n",
       "      <td>drilling</td>\n",
       "    </tr>\n",
       "    <tr>\n",
       "      <th>3</th>\n",
       "      <td>[-233.553640291661, 99.51922262586938, -39.737...</td>\n",
       "      <td>9</td>\n",
       "      <td>2</td>\n",
       "      <td>children_playing</td>\n",
       "    </tr>\n",
       "    <tr>\n",
       "      <th>4</th>\n",
       "      <td>[-74.35851840616728, 107.88685935039261, -15.9...</td>\n",
       "      <td>13</td>\n",
       "      <td>7</td>\n",
       "      <td>jackhammer</td>\n",
       "    </tr>\n",
       "  </tbody>\n",
       "</table>\n",
       "</div>"
      ],
      "text/plain": [
       "                                            Features  ID  prediction_number  \\\n",
       "0  [-76.29932629700959, 20.437210092830487, -17.5...   5                  4   \n",
       "1  [-375.73603059254435, 149.91731235026904, -21....   7                  3   \n",
       "2  [-150.61727302774204, -26.24097636075147, -24....   8                  4   \n",
       "3  [-233.553640291661, 99.51922262586938, -39.737...   9                  2   \n",
       "4  [-74.35851840616728, 107.88685935039261, -15.9...  13                  7   \n",
       "\n",
       "   prediction_label  \n",
       "0          drilling  \n",
       "1          dog_bark  \n",
       "2          drilling  \n",
       "3  children_playing  \n",
       "4        jackhammer  "
      ]
     },
     "execution_count": 5,
     "metadata": {},
     "output_type": "execute_result"
    }
   ],
   "source": [
    "results_file = 'pickles/predictions/test_prediction_7.pkl'\n",
    "df = df = pd.read_pickle(results_file)\n",
    "df.head()"
   ]
  },
  {
   "cell_type": "code",
   "execution_count": 6,
   "metadata": {},
   "outputs": [],
   "source": [
    "output = df.drop(['Features', 'prediction_number'], axis=1)\n",
    "output.to_csv('dhaase-40-features-model-2.csv', index=False)"
   ]
  },
  {
   "cell_type": "code",
   "execution_count": 6,
   "metadata": {},
   "outputs": [
    {
     "ename": "NameError",
     "evalue": "name 'data' is not defined",
     "output_type": "error",
     "traceback": [
      "\u001b[0;31m---------------------------------------------------------------------------\u001b[0m",
      "\u001b[0;31mNameError\u001b[0m                                 Traceback (most recent call last)",
      "\u001b[0;32m<ipython-input-6-1ff1db3e1d67>\u001b[0m in \u001b[0;36m<module>\u001b[0;34m\u001b[0m\n\u001b[0;32m----> 1\u001b[0;31m \u001b[0mhistory\u001b[0m \u001b[0;34m=\u001b[0m \u001b[0mpickle\u001b[0m\u001b[0;34m.\u001b[0m\u001b[0mload\u001b[0m\u001b[0;34m(\u001b[0m\u001b[0mopen\u001b[0m\u001b[0;34m(\u001b[0m\u001b[0mdata\u001b[0m\u001b[0;34m[\u001b[0m\u001b[0;34m'history_file'\u001b[0m\u001b[0;34m]\u001b[0m\u001b[0;34m,\u001b[0m \u001b[0;34m'rb'\u001b[0m\u001b[0;34m)\u001b[0m\u001b[0;34m)\u001b[0m\u001b[0;34m\u001b[0m\u001b[0;34m\u001b[0m\u001b[0m\n\u001b[0m\u001b[1;32m      2\u001b[0m \u001b[0mlen\u001b[0m\u001b[0;34m(\u001b[0m\u001b[0mhistory\u001b[0m\u001b[0;34m)\u001b[0m\u001b[0;34m\u001b[0m\u001b[0;34m\u001b[0m\u001b[0m\n",
      "\u001b[0;31mNameError\u001b[0m: name 'data' is not defined"
     ]
    }
   ],
   "source": [
    "history = pickle.load(open(data['history_file'], 'rb'))\n",
    "len(history)"
   ]
  },
  {
   "cell_type": "code",
   "execution_count": null,
   "metadata": {},
   "outputs": [],
   "source": []
  }
 ],
 "metadata": {
  "kernelspec": {
   "display_name": "Python 3",
   "language": "python",
   "name": "python3"
  },
  "language_info": {
   "codemirror_mode": {
    "name": "ipython",
    "version": 3
   },
   "file_extension": ".py",
   "mimetype": "text/x-python",
   "name": "python",
   "nbconvert_exporter": "python",
   "pygments_lexer": "ipython3",
   "version": "3.7.3"
  }
 },
 "nbformat": 4,
 "nbformat_minor": 2
}
